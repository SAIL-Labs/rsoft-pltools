{
 "cells": [
  {
   "cell_type": "markdown",
   "metadata": {},
   "source": [
    "# Photonic Lantern Parametric Simulation"
   ]
  },
  {
   "cell_type": "code",
   "execution_count": null,
   "metadata": {},
   "outputs": [],
   "source": [
    "# Import required libraries\n",
    "import os\n",
    "import sys\n",
    "import subprocess\n",
    "import numpy as np\n",
    "import matplotlib.pyplot as plt\n",
    "\n",
    "# Import custom modules\n",
    "from rsoft_cad.rsoft_mspl import ModeSelectiveLantern\n",
    "from rsoft_cad.rsoft_simulations import run_simulation\n",
    "from rsoft_cad.utils.plot_utils import visualise_lantern"
   ]
  },
  {
   "cell_type": "code",
   "execution_count": null,
   "metadata": {},
   "outputs": [],
   "source": [
    "def make_parameterised_lantern(\n",
    "    launch_mode=\"LP01\",\n",
    "    taper_factor=21,\n",
    "    taper_length=80000,\n",
    "    sim_type=\"breamprop\",\n",
    "    highest_mode=\"LP02\",\n",
    "):\n",
    "    \"\"\"\n",
    "    Create a parameterised photonic lantern configuration\n",
    "    \"\"\"\n",
    "    # Create Mode Selective Photonic Lantern instance\n",
    "    mspl = ModeSelectiveLantern()\n",
    "\n",
    "    # Create lantern without writing to design file\n",
    "    core_map = mspl.create_lantern(\n",
    "        highest_mode=highest_mode,\n",
    "        launch_mode=launch_mode,\n",
    "        opt_name=launch_mode,\n",
    "        savefile=False,  # Hold off on saving design file\n",
    "        taper_factor=taper_factor,\n",
    "        taper_length=taper_length,\n",
    "    )\n",
    "\n",
    "    # Calculate simulation boundaries based on capillary diameter\n",
    "    core_pos_x = 0\n",
    "    core_pos_y = 0\n",
    "    bpm_range = mspl.cap_dia\n",
    "    boundary_max = core_pos_x + bpm_range / 2\n",
    "    boundary_min = core_pos_x - bpm_range / 2\n",
    "    boundary_max_y = core_pos_y + bpm_range / 2\n",
    "    boundary_min_y = core_pos_y - bpm_range / 2\n",
    "\n",
    "    # Simulation parameters\n",
    "    sim_params = {\n",
    "        \"boundary_max\": boundary_max,\n",
    "        \"boundary_min\": boundary_min,\n",
    "        \"boundary_max_y\": boundary_max_y,\n",
    "        \"boundary_min_y\": boundary_min_y,\n",
    "        \"domain_min\": 0,\n",
    "        \"grid_size\": 0.5,\n",
    "        \"grid_size_y\": 0.5,\n",
    "        \"sim_tool\": \"ST_BEAMPROP\",\n",
    "        \"fem_nev\": 1,  # Find more eigenmodes\n",
    "        \"mode_output_format\": \"OUTPUT_REAL_IMAG\",\n",
    "        \"slice_display_mode\": \"DISPLAY_CONTOURMAPXY\",\n",
    "        \"field_output_format\": \"OUTPUT_REAL_IMAG\",\n",
    "        \"mode_launch_type\": 2,\n",
    "    }\n",
    "\n",
    "    # Update global simulation parameters\n",
    "    mspl.update_global_params(**sim_params)\n",
    "\n",
    "    # Generate filename\n",
    "    file_name = f\"{sim_type}_{mspl.design_filename}\"\n",
    "    design_filename = os.path.join(\n",
    "        mspl.design_filepath,\n",
    "        file_name,\n",
    "    )\n",
    "\n",
    "    # Write design file\n",
    "    mspl.write(design_filename)\n",
    "\n",
    "    return mspl.design_filepath, file_name, core_map"
   ]
  },
  {
   "cell_type": "code",
   "execution_count": null,
   "metadata": {},
   "outputs": [],
   "source": [
    "def visualise_lantern_layout(core_map):\n",
    "    \"\"\"\n",
    "    Visualize the lantern layout\n",
    "    \"\"\"\n",
    "    # Use the provided visualization utility\n",
    "    fig, ax = visualise_lantern(core_map)\n",
    "    plt.title(\"Photonic Lantern Mode Layout\")\n",
    "    return fig"
   ]
  },
  {
   "cell_type": "code",
   "execution_count": null,
   "metadata": {},
   "outputs": [],
   "source": [
    "def run_lantern_simulation(\n",
    "    launch_mode=\"LP01\", taper_factor=12.5, taper_length=80000, sim_type=\"breamprop\"\n",
    "):\n",
    "    \"\"\"\n",
    "    Run a complete lantern simulation workflow\n",
    "    \"\"\"\n",
    "    # Generate parameterised lantern\n",
    "    filepath, filename, core_map = make_parameterised_lantern(\n",
    "        launch_mode=launch_mode,\n",
    "        taper_factor=taper_factor,\n",
    "        taper_length=taper_length,\n",
    "        sim_type=sim_type,\n",
    "    )\n",
    "\n",
    "    # Run simulation\n",
    "    simulation_result = run_simulation(\n",
    "        filepath,\n",
    "        filename,\n",
    "        sim_package=\"bsimw32\",\n",
    "        prefix_name=f\"{launch_mode}_taper_{taper_length}\",\n",
    "        save_folder=\"lantern_simulations\",\n",
    "        hide_sim=True,\n",
    "    )\n",
    "\n",
    "    return filepath, filename, core_map"
   ]
  },
  {
   "cell_type": "markdown",
   "metadata": {},
   "source": [
    "## Explore Different Lantern Configurations"
   ]
  },
  {
   "cell_type": "code",
   "execution_count": null,
   "metadata": {},
   "outputs": [],
   "source": [
    "# Example Configuration 1: Single Mode Lantern\n",
    "filepath, filename, core_map = run_lantern_simulation(\n",
    "    launch_mode=\"LP01\", taper_factor=15, taper_length=55000\n",
    ")\n",
    "\n",
    "# Visualize the layout\n",
    "fig = visualise_lantern_layout(core_map)\n",
    "plt.show()"
   ]
  },
  {
   "cell_type": "code",
   "execution_count": null,
   "metadata": {},
   "outputs": [],
   "source": [
    "# Example Configuration 2: Multi-Mode Exploration\n",
    "launch_modes = [\"LP01\", \"LP02\", \"LP11\"]\n",
    "for mode in launch_modes:\n",
    "    filepath, filename, core_map = run_lantern_simulation(\n",
    "        launch_mode=mode, highest_mode=\"LP11\"\n",
    "    )\n",
    "    fig = visualise_lantern_layout(core_map)\n",
    "    plt.suptitle(f\"Lantern Layout for {mode}\")\n",
    "    plt.tight_layout()\n",
    "    plt.show()"
   ]
  },
  {
   "cell_type": "markdown",
   "metadata": {},
   "source": [
    "## Taper Length Exploration"
   ]
  },
  {
   "cell_type": "code",
   "execution_count": null,
   "metadata": {},
   "outputs": [],
   "source": [
    "# Explore different taper lengths\n",
    "taper_lengths = [50000, 70000, 90000]\n",
    "results = []\n",
    "\n",
    "for taper_length in taper_lengths:\n",
    "    filepath, filename, core_map = run_lantern_simulation(\n",
    "        launch_mode=\"LP01\", taper_length=taper_length\n",
    "    )\n",
    "    results.append(\n",
    "        {\n",
    "            \"taper_length\": taper_length,\n",
    "            \"filepath\": filepath,\n",
    "            \"filename\": filename,\n",
    "            \"core_map\": core_map,\n",
    "        }\n",
    "    )\n",
    "\n",
    "    # Visualize each configuration\n",
    "    fig = visualize_lantern_layout(core_map)\n",
    "    plt.suptitle(f\"Lantern Layout - Taper Length: {taper_length}\")\n",
    "    plt.tight_layout()\n",
    "    plt.show()"
   ]
  }
 ],
 "metadata": {
  "kernelspec": {
   "display_name": ".venv",
   "language": "python",
   "name": "python3"
  },
  "language_info": {
   "name": "python",
   "version": "3.12.7"
  }
 },
 "nbformat": 4,
 "nbformat_minor": 2
}
